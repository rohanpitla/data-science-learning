{
  "nbformat": 4,
  "nbformat_minor": 0,
  "metadata": {
    "colab": {
      "provenance": [],
      "authorship_tag": "ABX9TyOEkJQvLAiZMEMgmObm4968",
      "include_colab_link": true
    },
    "kernelspec": {
      "name": "python3",
      "display_name": "Python 3"
    },
    "language_info": {
      "name": "python"
    }
  },
  "cells": [
    {
      "cell_type": "markdown",
      "metadata": {
        "id": "view-in-github",
        "colab_type": "text"
      },
      "source": [
        "<a href=\"https://colab.research.google.com/github/rohanpitla/data-science-learning/blob/main/00_Cell_Python_Basics.ipynb\" target=\"_parent\"><img src=\"https://colab.research.google.com/assets/colab-badge.svg\" alt=\"Open In Colab\"/></a>"
      ]
    },
    {
      "cell_type": "markdown",
      "source": [
        "total ammount: 1,260,000\n",
        "\n",
        "option 1\n",
        "down payment : $300,000 and 8 year loan with interest rate of 10% per annum compunded monthly for the remaining ammount\n",
        "\n",
        "option 2\n",
        "take a 10yr loan with an interest rate of 8% per annum (compounded monnthly) for the entire amount"
      ],
      "metadata": {
        "id": "Be_7534cFFME"
      }
    },
    {
      "cell_type": "code",
      "source": [
        "import math"
      ],
      "metadata": {
        "id": "EwYU_EcwSjtR"
      },
      "execution_count": 30,
      "outputs": []
    },
    {
      "cell_type": "code",
      "source": [
        "def loan_emi(amount, duration ,down_payment, rate):\n",
        "  amount_due = amount - down_payment #local variables and cannot be  called outside the function\n",
        "\n",
        "\n",
        "  emi = (amount_due* rate * ((1 + rate)**duration ))/ (((1 + rate)**duration) - 1)\n",
        "  #print(f\"The emi is {emi}\")\n",
        "  emi = math.ceil(emi) #rounds off the value\n",
        "  return emi"
      ],
      "metadata": {
        "id": "DrutggePE_Yn"
      },
      "execution_count": 31,
      "outputs": []
    },
    {
      "cell_type": "code",
      "source": [
        "emi1 = loan_emi(amount = 1260000,  down_payment=300000, duration = 12*8, rate= 0.10/12) #we used named arguments eg.Duration so that the value are assigned properly\n",
        "emi1"
      ],
      "metadata": {
        "colab": {
          "base_uri": "https://localhost:8080/"
        },
        "id": "RAyVu0r9c4d2",
        "outputId": "7ce59413-35b3-4821-f81e-5526cdd2cb1f"
      },
      "execution_count": 32,
      "outputs": [
        {
          "output_type": "execute_result",
          "data": {
            "text/plain": [
              "14568"
            ]
          },
          "metadata": {},
          "execution_count": 32
        }
      ]
    },
    {
      "cell_type": "code",
      "source": [
        "emi2 = loan_emi(1260000, 12*10, 0, 0.08/12)\n",
        "emi2"
      ],
      "metadata": {
        "colab": {
          "base_uri": "https://localhost:8080/"
        },
        "id": "ouW5uYNgc6Ao",
        "outputId": "c7ba2b90-51b3-4454-a3e7-5ff5c3dda05e"
      },
      "execution_count": 33,
      "outputs": [
        {
          "output_type": "execute_result",
          "data": {
            "text/plain": [
              "15288"
            ]
          },
          "metadata": {},
          "execution_count": 33
        }
      ]
    },
    {
      "cell_type": "markdown",
      "source": [
        "shaun is currecntly paying back home for a house a few years ago\n",
        "\n",
        "the cost of the house = 800,000\n",
        "downpayment = 25%\n",
        "6 year loan with interest = 7% per annum (compunded monthly)\n",
        "\n",
        "car cost = $60,000\n",
        "finance using 1yr loan - interest 12% per annum\n",
        "find the total monthly payment"
      ],
      "metadata": {
        "id": "H74IBoRjTC92"
      }
    },
    {
      "cell_type": "code",
      "source": [
        "cost_house = 800000\n",
        "dp = 800000*0.25\n",
        "year = 12*6\n",
        "rate_house= 0.07/12\n",
        "\n",
        "house_emi= loan_emi(amount = cost_house ,  duration = year ,  down_payment = dp , rate = rate_house)\n",
        "house_emi"
      ],
      "metadata": {
        "colab": {
          "base_uri": "https://localhost:8080/"
        },
        "id": "hpOuCVe-UB0t",
        "outputId": "2cc81d15-637d-4d56-e1e5-34666139b5ae"
      },
      "execution_count": 34,
      "outputs": [
        {
          "output_type": "execute_result",
          "data": {
            "text/plain": [
              "10230"
            ]
          },
          "metadata": {},
          "execution_count": 34
        }
      ]
    },
    {
      "cell_type": "code",
      "source": [],
      "metadata": {
        "id": "IiZ485rCXYCD"
      },
      "execution_count": null,
      "outputs": []
    }
  ]
}